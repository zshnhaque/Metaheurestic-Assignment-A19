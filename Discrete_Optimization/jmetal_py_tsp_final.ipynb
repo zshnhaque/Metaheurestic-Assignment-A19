{
 "cells": [
  {
   "cell_type": "code",
   "execution_count": 1,
   "metadata": {},
   "outputs": [],
   "source": [
    "import math\n",
    "import random\n",
    "import re\n",
    "import matplotlib.pyplot as plt"
   ]
  },
  {
   "cell_type": "code",
   "execution_count": 2,
   "metadata": {},
   "outputs": [],
   "source": [
    "from jmetal.core.problem import PermutationProblem\n",
    "from jmetal.core.solution import PermutationSolution"
   ]
  },
  {
   "cell_type": "code",
   "execution_count": 3,
   "metadata": {},
   "outputs": [],
   "source": [
    "from jmetal.algorithm.singleobjective.genetic_algorithm import GeneticAlgorithm\n",
    "from jmetal.algorithm.singleobjective.evolution_strategy import EvolutionStrategy\n",
    "from jmetal.operator import BinaryTournamentSelection,PolynomialMutation\n",
    "from jmetal.operator.crossover import PMXCrossover\n",
    "from jmetal.operator.mutation import PermutationSwapMutation\n",
    "from jmetal.util.comparator import MultiComparator\n",
    "from jmetal.util.density_estimator import CrowdingDistance\n",
    "from jmetal.util.ranking import FastNonDominatedRanking\n",
    "from jmetal.util.termination_criterion import StoppingByEvaluations"
   ]
  },
  {
   "cell_type": "code",
   "execution_count": 4,
   "metadata": {},
   "outputs": [],
   "source": [
    "class TSP(PermutationProblem):\n",
    "    \"\"\" Class representing TSP Problem. \"\"\"\n",
    "\n",
    "    def __init__(self, instance: str = None):\n",
    "        super(TSP, self).__init__()\n",
    "\n",
    "        distance_matrix, number_of_cities = self.__read_from_file(instance)\n",
    "\n",
    "        self.distance_matrix = distance_matrix\n",
    "\n",
    "        self.obj_directions = [self.MINIMIZE]\n",
    "        self.number_of_variables = number_of_cities\n",
    "        self.number_of_objectives = 1\n",
    "        self.number_of_constraints = 0\n",
    "\n",
    "    def __read_from_file(self, filename: str):\n",
    "        \"\"\"\n",
    "        This function reads a TSP Problem instance from a file.\n",
    "\n",
    "        :param filename: File which describes the instance.\n",
    "        :type filename: str.\n",
    "        \"\"\"\n",
    "\n",
    "        if filename is None:\n",
    "            raise FileNotFoundError('Filename can not be None')\n",
    "\n",
    "        with open(filename) as file:\n",
    "            lines = file.readlines()\n",
    "            data = [line.lstrip() for line in lines if line != \"\"]\n",
    "\n",
    "            dimension = re.compile(r'[^\\d]+')\n",
    "\n",
    "            for item in data:\n",
    "                if item.startswith('DIMENSION'):\n",
    "                    dimension = int(dimension.sub('', item))\n",
    "                    break\n",
    "\n",
    "            c = [-1.0] * (2 * dimension)\n",
    "\n",
    "            for item in data:\n",
    "                if item[0].isdigit():\n",
    "                    j, city_a, city_b = [x.strip() for x in item.split(' ')]\n",
    "                    c[2 * (int(j) - 1)] = float(city_a)\n",
    "                    c[2 * (int(j) - 1) + 1] = float(city_b)\n",
    "\n",
    "            matrix = [[-1] * dimension for _ in range(dimension)]\n",
    "\n",
    "            for k in range(dimension):\n",
    "                matrix[k][k] = 0\n",
    "\n",
    "                for j in range(k + 1, dimension):\n",
    "                    dist = math.sqrt((c[k * 2] - c[j * 2]) ** 2 + (c[k * 2 + 1] - c[j * 2 + 1]) ** 2)\n",
    "                    #dist = round(dist)\n",
    "                    matrix[k][j] = dist\n",
    "                    matrix[j][k] = dist\n",
    "\n",
    "            return matrix, dimension\n",
    "\n",
    "    def evaluate(self, solution: PermutationSolution) -> PermutationSolution:\n",
    "        fitness = 0\n",
    "\n",
    "        for i in range(self.number_of_variables - 1):\n",
    "            x = solution.variables[i]\n",
    "            y = solution.variables[i + 1]\n",
    "\n",
    "            fitness += self.distance_matrix[x][y]\n",
    "\n",
    "        first_city, last_city = solution.variables[0], solution.variables[-1]\n",
    "        fitness += self.distance_matrix[first_city][last_city]\n",
    "\n",
    "        solution.objectives[0] = fitness\n",
    "\n",
    "        return solution\n",
    "\n",
    "\n",
    "    def create_solution(self) -> PermutationSolution:\n",
    "        new_solution = PermutationSolution(number_of_variables=self.number_of_variables,\n",
    "                                           number_of_objectives=self.number_of_objectives)\n",
    "        new_solution.variables = random.sample(range(self.number_of_variables), k=self.number_of_variables)\n",
    "\n",
    "        return new_solution\n",
    "\n",
    "\n",
    "    @property\n",
    "    def number_of_cities(self):\n",
    "        return self.number_of_variables\n",
    "\n",
    "    def get_name(self):\n",
    "        return 'Symmetric TSP'\n"
   ]
  },
  {
   "cell_type": "code",
   "execution_count": 5,
   "metadata": {},
   "outputs": [],
   "source": [
    "def calc_tsp_ga(file_location,population_size_ga,offspring_population_size_ga,max_evaluation_ga):\n",
    "    problem = TSP(instance=file_location)\n",
    "\n",
    "    #print('Cities: ', problem.number_of_variables)\n",
    "\n",
    "    algorithm = GeneticAlgorithm(\n",
    "        problem=problem,\n",
    "        population_size=population_size_ga,\n",
    "        offspring_population_size=offspring_population_size_ga,\n",
    "        mutation=PermutationSwapMutation(1.0 / problem.number_of_variables),\n",
    "        crossover=PMXCrossover(0.8),\n",
    "        selection=BinaryTournamentSelection(\n",
    "            MultiComparator([FastNonDominatedRanking.get_comparator(),\n",
    "                             CrowdingDistance.get_comparator()])),\n",
    "        termination_criterion=StoppingByEvaluations(max = max_evaluation_ga)\n",
    "    )\n",
    "\n",
    "    algorithm.run()\n",
    "    result = algorithm.get_result()\n",
    "    \n",
    "    return (algorithm.get_name(),problem.get_name(),result.variables,result.objectives[0],algorithm.total_computing_time)"
   ]
  },
  {
   "cell_type": "code",
   "execution_count": 6,
   "metadata": {},
   "outputs": [],
   "source": [
    "djibouti_tsp_dat = '/dj38.tsp'\n",
    "qatar_tsp_dat = '/qa194.tsp'"
   ]
  },
  {
   "cell_type": "code",
   "execution_count": 11,
   "metadata": {},
   "outputs": [],
   "source": [
    "test1_3 = calc_tsp_ga(djibouti_tsp_dat,200,150,2500000)"
   ]
  },
  {
   "cell_type": "code",
   "execution_count": 12,
   "metadata": {},
   "outputs": [
    {
     "name": "stdout",
     "output_type": "stream",
     "text": [
      "('Genetic algorithm', 'Symmetric TSP', [34, 22, 19, 1, 0, 9, 13, 20, 28, 31, 29, 25, 24, 21, 23, 18, 17, 15, 8, 7, 14, 12, 6, 5, 3, 2, 4, 10, 11, 16, 27, 26, 30, 35, 33, 32, 36, 37], 8387.553976264137, 249.5164954662323)\n"
     ]
    }
   ],
   "source": [
    "print(test1_3)"
   ]
  },
  {
   "cell_type": "code",
   "execution_count": 13,
   "metadata": {},
   "outputs": [],
   "source": [
    "test2_2 = calc_tsp_ga(qatar_tsp_dat,150,150,2500000)"
   ]
  },
  {
   "cell_type": "code",
   "execution_count": 14,
   "metadata": {},
   "outputs": [
    {
     "name": "stdout",
     "output_type": "stream",
     "text": [
      "('Genetic algorithm', 'Symmetric TSP', [37, 30, 72, 99, 107, 147, 127, 132, 134, 135, 152, 164, 156, 140, 125, 126, 100, 103, 110, 113, 108, 101, 77, 69, 28, 14, 11, 26, 17, 23, 25, 20, 95, 169, 179, 180, 176, 187, 183, 174, 167, 166, 158, 154, 76, 67, 39, 38, 33, 27, 56, 73, 59, 71, 74, 44, 42, 34, 41, 40, 57, 66, 114, 184, 192, 186, 182, 168, 129, 98, 62, 5, 3, 1, 0, 58, 89, 97, 124, 15, 10, 2, 4, 8, 9, 50, 36, 21, 6, 7, 61, 88, 93, 90, 92, 80, 87, 118, 148, 160, 163, 155, 81, 13, 16, 24, 75, 133, 144, 145, 141, 12, 70, 79, 86, 116, 120, 142, 122, 123, 48, 29, 18, 31, 45, 47, 52, 46, 63, 117, 146, 151, 149, 153, 162, 178, 189, 193, 185, 173, 121, 112, 131, 139, 136, 138, 137, 172, 188, 190, 177, 170, 159, 161, 157, 150, 130, 91, 82, 96, 104, 115, 119, 128, 143, 171, 175, 181, 191, 165, 106, 94, 78, 83, 65, 60, 32, 68, 22, 35, 19, 64, 85, 84, 102, 105, 111, 109, 55, 43, 49, 54, 53, 51], 25830.675104952894, 2508.474024772644)\n"
     ]
    }
   ],
   "source": [
    "print(test2_2)"
   ]
  }
 ],
 "metadata": {
  "kernelspec": {
   "display_name": "Python 3",
   "language": "python",
   "name": "python3"
  },
  "language_info": {
   "codemirror_mode": {
    "name": "ipython",
    "version": 3
   },
   "file_extension": ".py",
   "mimetype": "text/x-python",
   "name": "python",
   "nbconvert_exporter": "python",
   "pygments_lexer": "ipython3",
   "version": "3.7.3"
  }
 },
 "nbformat": 4,
 "nbformat_minor": 4
}
